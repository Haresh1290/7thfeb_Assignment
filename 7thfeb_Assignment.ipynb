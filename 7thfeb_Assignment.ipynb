{
 "cells": [
  {
   "cell_type": "code",
   "execution_count": 1,
   "id": "8cb1e06d-2087-479c-ad70-c256dfa00283",
   "metadata": {},
   "outputs": [
    {
     "name": "stdout",
     "output_type": "stream",
     "text": [
      "Valid Password\n"
     ]
    }
   ],
   "source": [
    "# problem_1\n",
    "\n",
    "l, u, p, d = 0, 0, 0, 0\n",
    "s = \"R@m@_f0rtu9e$\"\n",
    "capitalalphabets=\"ABCDEFGHIJKLMNOPQRSTUVWXYZ\"\n",
    "smallalphabets=\"abcdefghijklmnopqrstuvwxyz\"\n",
    "specialchar=\"$@_\"\n",
    "digits=\"0123456789\"\n",
    "if (len(s) >= 8):\n",
    "\tfor i in s:\n",
    "\n",
    "\t\t# counting lowercase alphabets\n",
    "\t\tif (i in smallalphabets):\n",
    "\t\t\tl+=1\t\t\n",
    "\n",
    "\t\t# counting uppercase alphabets\n",
    "\t\tif (i in capitalalphabets):\n",
    "\t\t\tu+=1\t\t\n",
    "\n",
    "\t\t# counting digits\n",
    "\t\tif (i in digits):\n",
    "\t\t\td+=1\t\t\n",
    "\n",
    "\t\t# counting the mentioned special characters\n",
    "\t\tif(i in specialchar):\n",
    "\t\t\tp+=1\t\n",
    "if (l>=1 and u>=1 and p>=1 and d>=1 and l+p+u+d==len(s)):\n",
    "\tprint(\"Valid Password\")\n",
    "else:\n",
    "\tprint(\"Invalid Password\")\n"
   ]
  },
  {
   "cell_type": "code",
   "execution_count": 12,
   "id": "8a3cad3f-93fe-4279-9693-1abe07befbe6",
   "metadata": {},
   "outputs": [
    {
     "name": "stdout",
     "output_type": "stream",
     "text": [
      "The list of matching first letter : ['Akash', 'akshat']\n"
     ]
    }
   ],
   "source": [
    "#Problem_2\n",
    "#Check if the string starts with a particular letter.\n",
    "test_list = ['Akash', 'Nikhil', 'Manjeet', 'akshat']\n",
    "check = 'A'\n",
    "res = list(filter(lambda x: x[0].lower() == check.lower(), test_list))\n",
    "print(\"The list of matching first letter : \" + str(res))"
   ]
  },
  {
   "cell_type": "code",
   "execution_count": 18,
   "id": "c0b937bc-c5ba-48b2-be3f-d122244ce0a8",
   "metadata": {},
   "outputs": [
    {
     "data": {
      "text/plain": [
       "[True, True, True, True, True, True]"
      ]
     },
     "execution_count": 18,
     "metadata": {},
     "output_type": "execute_result"
    }
   ],
   "source": [
    "#Problem_2\n",
    "#Check if the string is numeric.\n",
    "\n",
    "txt = \"565543\"\n",
    "\n",
    "[a.isnumeric() for a in txt]\n"
   ]
  },
  {
   "cell_type": "code",
   "execution_count": 21,
   "id": "1c9ce436-74a8-4bde-80b4-bf6f0f057c33",
   "metadata": {},
   "outputs": [
    {
     "name": "stdout",
     "output_type": "stream",
     "text": [
      "[('orange', 80), ('mango', 99), ('grapes', 1000)]\n"
     ]
    }
   ],
   "source": [
    "#Problem_2\n",
    "#Sort a list of tuples having fruit names and their quantity. [(\"mango\",99),(\"orange\",80), (\"grapes\", 1000)-\n",
    "\n",
    "def Sort_Tuple(tup):\n",
    "    return(sorted(tup, key = lambda x: x[1]))\n",
    "tup = [(\"mango\",99),(\"orange\",80), (\"grapes\", 1000)]\n",
    "print(Sort_Tuple(tup))\n"
   ]
  },
  {
   "cell_type": "code",
   "execution_count": 23,
   "id": "216c1416-c3b4-48a8-9cd9-4a1ed5eaea42",
   "metadata": {},
   "outputs": [
    {
     "data": {
      "text/plain": [
       "[1, 4, 9, 16, 25, 36, 49, 64, 81, 100]"
      ]
     },
     "execution_count": 23,
     "metadata": {},
     "output_type": "execute_result"
    }
   ],
   "source": [
    "#Problem_2\n",
    "#Find the squares of numbers from 1 to 10.\n",
    "\n",
    "[x**2 for x in range(1,11)]"
   ]
  },
  {
   "cell_type": "code",
   "execution_count": 27,
   "id": "8ba9cf51-1191-42aa-acba-d1e29d3ded5e",
   "metadata": {},
   "outputs": [
    {
     "data": {
      "text/plain": [
       "[1, 8, 27, 64, 125, 216, 343, 512, 729, 1000]"
      ]
     },
     "execution_count": 27,
     "metadata": {},
     "output_type": "execute_result"
    }
   ],
   "source": [
    "#Problem_2\n",
    "#Find the cube root of numbers from 1 to 10.\n",
    "\n",
    "[x**3 for x in range(1,11)]\n"
   ]
  },
  {
   "cell_type": "code",
   "execution_count": 30,
   "id": "7d2538ed-fede-4201-9f39-9906f706c323",
   "metadata": {},
   "outputs": [
    {
     "data": {
      "text/plain": [
       "[2, 4, 6, 8, 10, 12]"
      ]
     },
     "execution_count": 30,
     "metadata": {},
     "output_type": "execute_result"
    }
   ],
   "source": [
    "#Problem_2\n",
    "#Check if a given number is even.\n",
    "l = [1,2,4,5,6,7,8,9,10,11,12]\n",
    "list(filter(lambda x : x % 2 ==0 ,l))\n"
   ]
  },
  {
   "cell_type": "code",
   "execution_count": 31,
   "id": "57e027b1-6e65-4bc0-af65-dc3976d15550",
   "metadata": {},
   "outputs": [
    {
     "data": {
      "text/plain": [
       "[1, 3, 5, 7, 9]"
      ]
     },
     "execution_count": 31,
     "metadata": {},
     "output_type": "execute_result"
    }
   ],
   "source": [
    "#Problem_2\n",
    "#Check if a given number is odd.\n",
    "l = [1,2,3,4,5,6,7,8,9,10]\n",
    "[x for x in l if x%2==1]"
   ]
  },
  {
   "cell_type": "code",
   "execution_count": 49,
   "id": "182b1334-b3b9-4eed-b51a-f17aca5afab5",
   "metadata": {},
   "outputs": [
    {
     "name": "stdout",
     "output_type": "stream",
     "text": [
      "[1, 2, 3, 4, 5, 6, -1, -2, -3, -4, -5, 0]\n"
     ]
    }
   ],
   "source": [
    "#Problrem_2\n",
    "#Sort a list of integers into positive and negative integers lists.\n",
    "l = [1,2,3,4,5,6,-1,-2,-3,-4,-5,0]\n",
    "b,c=[i for i in l if i<=0 ],[j for j in l if j>0]\n",
    "print(C + b)\n"
   ]
  },
  {
   "cell_type": "code",
   "execution_count": null,
   "id": "dc10128f-dfb0-41e3-b9ee-f4c8ff4b2381",
   "metadata": {},
   "outputs": [],
   "source": []
  }
 ],
 "metadata": {
  "kernelspec": {
   "display_name": "Python 3 (ipykernel)",
   "language": "python",
   "name": "python3"
  },
  "language_info": {
   "codemirror_mode": {
    "name": "ipython",
    "version": 3
   },
   "file_extension": ".py",
   "mimetype": "text/x-python",
   "name": "python",
   "nbconvert_exporter": "python",
   "pygments_lexer": "ipython3",
   "version": "3.10.8"
  }
 },
 "nbformat": 4,
 "nbformat_minor": 5
}
